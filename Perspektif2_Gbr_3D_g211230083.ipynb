{
  "nbformat": 4,
  "nbformat_minor": 0,
  "metadata": {
    "colab": {
      "provenance": [],
      "authorship_tag": "ABX9TyMQWWumWdVdcc7QjOZFGppR",
      "include_colab_link": true
    },
    "kernelspec": {
      "name": "python3",
      "display_name": "Python 3"
    },
    "language_info": {
      "name": "python"
    }
  },
  "cells": [
    {
      "cell_type": "markdown",
      "metadata": {
        "id": "view-in-github",
        "colab_type": "text"
      },
      "source": [
        "<a href=\"https://colab.research.google.com/github/syaifulaliyup/Prak_Meet3_Komputer_Grafis/blob/main/Perspektif2_Gbr_3D_g211230083.ipynb\" target=\"_parent\"><img src=\"https://colab.research.google.com/assets/colab-badge.svg\" alt=\"Open In Colab\"/></a>"
      ]
    },
    {
      "cell_type": "code",
      "source": [
        "import matplotlib.pyplot as plt\n",
        "import numpy as np\n",
        "from math import sin, cos, radians\n",
        "\n",
        "plt.axis([0,150,100,0])\n",
        "\n",
        "plt.axis('on')\n",
        "plt.grid(True)\n",
        "\n",
        "x=[-20,-20,20,20,-20,-20,20,20,-20,20] # -- object local corner coordinates\n",
        "y=[-10,-10,-10,-10,10,10,10,10,-20,-20]\n",
        "z=[5,-5,-5,5,5,-5,-5,5,0,0]\n",
        "\n",
        "xc=30 # object center coordinates\n",
        "yc=50\n",
        "zc=10\n",
        "\n",
        "\n",
        "xg=[ ] # object global coordinates\n",
        "yg=[ ]\n",
        "zg=[ ]\n",
        "\n",
        "for i in np.arange(len(x)):\n",
        "    xg.append(x[i]+xc)\n",
        "    yg.append(y[i]+yc)\n",
        "    zg.append(z[i]+zc)\n",
        "\n",
        "# -- plot object\n",
        "def plothouse(xg,yg,zg):\n",
        "    plt.plot([xg[0],xg[3]],[yg[0],yg[3]],color='k')\n",
        "    plt.plot([xg[1],xg[2]], [yg[1],yg[2]],color='k')\n",
        "\n",
        "    plt.plot([xg[4],xg[7]], [yg[4],yg[7]],color='k')\n",
        "    plt.plot([xg[5],xg[6]], [yg[5],yg[6]],color='k')\n",
        "    plt.plot([xg[8],xg[9]],[yg[8],yg[9]],color='k')\n",
        "    plt.plot([xg[4],xg[0]], [yg[4],yg[0]],color='k')\n",
        "    plt.plot([xg[5],xg[1]], [yg[5],yg[1]],color='k')\n",
        "    plt.plot([xg[6],xg[2]], [yg[6],yg[2]],color='r')\n",
        "    plt.plot([xg[7],xg[3]],[yg[7],yg[3]],color='r')\n",
        "    plt.plot([xg[0],xg[8]], [yg[0],yg[8]],color='k')\n",
        "    plt.plot([xg[1],xg[8]],[yg[1],yg[8]],color='k')\n",
        "    plt.plot([xg[2],xg[9]],[yg[2],yg[9]],color='r')\n",
        "    plt.plot([xg[3],xg[9]],[yg[3],yg[9]],color='r')\n",
        "    plt.plot([xg[4],xg[5]],[yg[4],yg[5]],color='k')\n",
        "    plt.plot([xg[6],xg[7]], [yg[6],yg[7]],color='r')\n",
        "\n",
        "# ----rotate object about the Y direction\n",
        "def plothousey(xc,yc,zc,Ry):\n",
        "    for i in range(len(x)): #-rotate 10 corners\n",
        "        [xg[i],yg[i],zg[i]]=roty(xc,yc,zc,x[i],y[i],z[i],Ry)\n",
        "\n",
        "def roty(xc,yc,zc,x,y,z,Ry):\n",
        "    a=[x,y,z]\n",
        "    b=[cos(Ry),0,sin(Ry)]\n",
        "    xpp=np.inner(a,b)\n",
        "    b=[0,1,0]\n",
        "    ypp=np.inner(a,b)\n",
        "    b=[-sin(Ry),0,cos(Ry)]\n",
        "    zpp=np.inner(a,b)\n",
        "    [xg,yg,zg]=[xpp+xc,ypp+yc,zpp+zc]\n",
        "    return [xg,yg,zg]\n",
        "\n",
        "\n",
        "# perspective transformation\n",
        "def perspective(xfp,yfp,zfp):\n",
        "    for i in range(len(x)):\n",
        "        a=xg[i]-xfp\n",
        "        b=yg[i]-yfp\n",
        "        c=zg[i]+abs(zfp)\n",
        "        q=np.sqrt(a*a+b*b+c*c)\n",
        "        ux=a/q\n",
        "        uy=b/q\n",
        "        uz=c/q\n",
        "        qh=q*abs(zfp)/(zg[i]+abs(zfp))\n",
        "        xh=ux*qh+xfp\n",
        "        yh=uy*qh+yfp\n",
        "        zh=0\n",
        "        xg[i]=xh\n",
        "        yg[i]=yh\n",
        "        zg[i]=zh\n",
        "\n",
        "xfp=80 # focal point coordinates\n",
        "yfp=50\n",
        "zfp =-600\n",
        "\n",
        "xc=80 # -redefine center coordinates\n",
        "yc=50\n",
        "zc=50\n",
        "\n",
        "\n",
        "Ry=radians(45) # angle of rotation\n",
        "\n",
        "plothousey(xc,yc,zc,Ry)   # -- rotate\n",
        "perspective(xfp,yfp,zfp)  # -- transform\n",
        "plothouse(xg,yg,zg)       # -- rotate\n",
        "\n",
        "plt.show()\n",
        "\n",
        "\n",
        "\n",
        "\n"
      ],
      "metadata": {
        "id": "RJcl3T_03Dr_",
        "colab": {
          "base_uri": "https://localhost:8080/",
          "height": 435
        },
        "outputId": "27091643-1dba-4bc0-e156-6a0d5a7496d8"
      },
      "execution_count": 2,
      "outputs": [
        {
          "output_type": "display_data",
          "data": {
            "text/plain": [
              "<Figure size 640x480 with 1 Axes>"
            ],
            "image/png": "[encoded data removed]"
          },
          "metadata": {}
        }
      ]
    }
  ]
}